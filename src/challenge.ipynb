{
 "cells": [
  {
   "cell_type": "code",
   "execution_count": 9,
   "metadata": {},
   "outputs": [
    {
     "name": "stdout",
     "output_type": "stream",
     "text": [
      "Top 10 fechas con más tweets:\n"
     ]
    },
    {
     "name": "stdout",
     "output_type": "stream",
     "text": [
      "Resultado: ([(datetime.date(2021, 2, 12), 'RanbirS00614606'), (datetime.date(2021, 2, 13), 'MaanDee08215437'), (datetime.date(2021, 2, 17), 'RaaJVinderkaur'), (datetime.date(2021, 2, 16), 'jot__b'), (datetime.date(2021, 2, 14), 'rebelpacifist'), (datetime.date(2021, 2, 18), 'neetuanjle_nitu'), (datetime.date(2021, 2, 15), 'jot__b'), (datetime.date(2021, 2, 20), 'MangalJ23056160'), (datetime.date(2021, 2, 23), 'Surrypuria'), (datetime.date(2021, 2, 19), 'Preetm91')], 23.669257499999993)\n",
      "Tiempo de ejecución: -0.5469 segundos\n",
      "Uso máximo de memoria: 41.8242 MB\n",
      "\n",
      "Top 10 emojis más usados:\n",
      "Resultado: ([('🙏', 7286), ('😂', 3072), ('🚜', 2972), ('✊', 2411), ('🌾', 2363), ('🏻', 2080), ('❤', 1779), ('🤣', 1668), ('🏽', 1218), ('👇', 1108)], 31.9734597)\n",
      "Tiempo de ejecución: -0.2539 segundos\n",
      "Uso máximo de memoria: 41.5703 MB\n",
      "\n",
      "Top 10 usuarios más influyentes:\n",
      "Resultado: ([('narendramodi', 2261), ('Kisanektamorcha', 1836), ('RakeshTikaitBKU', 1639), ('PMOIndia', 1422), ('RahulGandhi', 1125), ('GretaThunberg', 1046), ('RaviSinghKA', 1015), ('rihanna', 972), ('UNHumanRights', 962), ('meenaharris', 925)], 18.0736984)\n",
      "Tiempo de ejecución: 1.1836 segundos\n",
      "Uso máximo de memoria: 42.7539 MB\n"
     ]
    }
   ],
   "source": [
    "# challenge.ipynb\n",
    "\n",
    "from memory_profiler import memory_usage\n",
    "from q1_memory import q1_memory\n",
    "from q2_memory import q2_memory\n",
    "from q3_memory import q3_memory\n",
    "from q1_time import profile as profile_q1\n",
    "from q2_time import profile as profile_q2\n",
    "from q3_time import profile as profile_q3\n",
    "\n",
    "def measure_memory(func, *args, **kwargs):\n",
    "    mem_usage_before = memory_usage(max_usage=True)  # Uso máximo de memoria antes\n",
    "    result = func(*args, **kwargs)  # Llama a la función\n",
    "    mem_usage_after = memory_usage(max_usage=True)  # Uso máximo de memoria después\n",
    "    return result, mem_usage_after - mem_usage_before  # Diferencia de uso de memoria\n",
    "\n",
    "def main():\n",
    "    filename = 'farmers-protest-tweets-2021-2-4.json'\n",
    "\n",
    "    print(\"Top 10 fechas con más tweets:\")\n",
    "    result, exec_time = measure_memory(profile_q1(q1_memory), filename)  # Usar el decorador para medir tiempo\n",
    "    print(f\"Resultado: {result}\")\n",
    "    print(f\"Tiempo de ejecución: {exec_time:.4f} segundos\")\n",
    "    max_memory_usage = memory_usage(max_usage=True)\n",
    "    print(f\"Uso máximo de memoria: {max_memory_usage:.4f} MB\")\n",
    "\n",
    "    print(\"\\nTop 10 emojis más usados:\")\n",
    "    result, exec_time = measure_memory(profile_q2(q2_memory), filename)  # Usar el decorador para medir tiempo\n",
    "    print(f\"Resultado: {result}\")\n",
    "    print(f\"Tiempo de ejecución: {exec_time:.4f} segundos\")\n",
    "    max_memory_usage = memory_usage(max_usage=True)\n",
    "    print(f\"Uso máximo de memoria: {max_memory_usage:.4f} MB\")\n",
    "\n",
    "    print(\"\\nTop 10 usuarios más influyentes:\")\n",
    "    result, exec_time = measure_memory(profile_q3(q3_memory), filename)  # Usar el decorador para medir tiempo\n",
    "    print(f\"Resultado: {result}\")\n",
    "    print(f\"Tiempo de ejecución: {exec_time:.4f} segundos\")\n",
    "    max_memory_usage = memory_usage(max_usage=True)\n",
    "    print(f\"Uso máximo de memoria: {max_memory_usage:.4f} MB\")\n",
    "\n",
    "if __name__ == \"__main__\":\n",
    "    main()\n",
    "\n"
   ]
  }
 ],
 "metadata": {
  "kernelspec": {
   "display_name": "Python 3",
   "language": "python",
   "name": "python3"
  },
  "language_info": {
   "codemirror_mode": {
    "name": "ipython",
    "version": 3
   },
   "file_extension": ".py",
   "mimetype": "text/x-python",
   "name": "python",
   "nbconvert_exporter": "python",
   "pygments_lexer": "ipython3",
   "version": "3.9.7"
  }
 },
 "nbformat": 4,
 "nbformat_minor": 2
}
